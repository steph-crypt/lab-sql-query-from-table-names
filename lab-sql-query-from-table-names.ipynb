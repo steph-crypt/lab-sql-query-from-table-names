{
 "cells": [
  {
   "cell_type": "markdown",
   "id": "00a57394-53dd-47cd-a5e7-6e7122bbb0f6",
   "metadata": {},
   "source": [
    "# SQL query from table names"
   ]
  },
  {
   "cell_type": "markdown",
   "id": "86bc2813-763c-49f2-9f5d-e1f87a20556f",
   "metadata": {
    "id": "86bc2813-763c-49f2-9f5d-e1f87a20556f"
   },
   "source": [
    "In This notebook we are going to test if using just the name of the table, and a short definition of its context, we can use a model like GTP3.5-Turbo to select which tables are necessary to create an SQL Order to answer the user petition."
   ]
  },
  {
   "cell_type": "code",
   "execution_count": 1,
   "id": "7fbbdf5b-4d7f-4496-8f40-9d15ea46d023",
   "metadata": {
    "id": "7fbbdf5b-4d7f-4496-8f40-9d15ea46d023"
   },
   "outputs": [],
   "source": [
    "from openai import OpenAI\n",
    "import os\n",
    "from dotenv import load_dotenv, find_dotenv\n",
    "_ = load_dotenv(find_dotenv())\n",
    "\n",
    "OPENAI_API_KEY  = os.getenv('OPENAI_API_KEY')"
   ]
  },
  {
   "cell_type": "code",
   "execution_count": 2,
   "id": "e480bbfb-9a80-4ea6-b792-067e63ae3148",
   "metadata": {
    "id": "e480bbfb-9a80-4ea6-b792-067e63ae3148"
   },
   "outputs": [],
   "source": [
    "#Functio to call the model.\n",
    "def return_OAI(user_message):\n",
    "    client = OpenAI(\n",
    "    # This is the default and can be omitted\n",
    "    api_key=OPENAI_API_KEY,\n",
    ")\n",
    "    context = []\n",
    "    context.append({'role':'system', \"content\": user_message})\n",
    "\n",
    "    response = client.chat.completions.create(\n",
    "            model=\"gpt-3.5-turbo\",\n",
    "            messages=context,\n",
    "            temperature=0,\n",
    "        )\n",
    "\n",
    "    return (response.choices[0].message.content)"
   ]
  },
  {
   "cell_type": "code",
   "execution_count": 57,
   "id": "6d5d2bdc-d822-4ed8-815e-b3f223730f15",
   "metadata": {
    "id": "6d5d2bdc-d822-4ed8-815e-b3f223730f15",
    "outputId": "61068bf0-41e3-40d9-b453-b76da5b0f086"
   },
   "outputs": [
    {
     "name": "stdout",
     "output_type": "stream",
     "text": [
      "                                               table  \\\n",
      "0  hospitals(hosp_id, name, phone, address, city,...   \n",
      "1  patients(hosp_id,  patient_id, first_name, las...   \n",
      "2  doctors(hosp_id, doctor_id, first_name, last_n...   \n",
      "3  diagnoses(diagnosis_id, disease_name, disease_...   \n",
      "\n",
      "                                          definition  \n",
      "0  Contains details about hospitals including uni...  \n",
      "1  Contains details about patients including thei...  \n",
      "2  Contains details about doctors including their...  \n",
      "3  Contains details about diagnoses including the...  \n"
     ]
    }
   ],
   "source": [
    "import pandas as pd\n",
    "\n",
    "data = {\n",
    "    'table': [\n",
    "        'hospitals(hosp_id, name, phone, address, city, state, zip, doctors, nurses, medical_specialty, treatment_success_rate)',\n",
    "        'patients(hosp_id,  patient_id, first_name, last_name, admission_date, symptoms, diagnosis_id, phone, email, address, treatment_success_rate)',\n",
    "        'doctors(hosp_id, doctor_id, first_name, last_name, phone, email, address, begin_date, medical_specialty, diagnosis_id, med_degree, treatment_success_rate)',\n",
    "        'diagnoses(diagnosis_id, disease_name, disease_type, malignant, disease_frequency, symptoms, treatment_success_rate)'\n",
    "        \n",
    "    \n",
    "    ],\n",
    "    'definition': [\n",
    "        'Contains details about hospitals including unique ID, name, address, and how many doctors and nurses on staff, the treatment success rate, and what is the hospitals medical specialty.',\n",
    "        'Contains details about patients including their unique ID, name, phone number, email address, home address, diagnosis, symptoms, the treatment success, and the date they were admitted into the hospital.',\n",
    "        'Contains details about doctors including their unique ID, name, phone number, email address, home address, begin date working at the hospital, medical specialty and medical degree, treatment success rate, and the id of the diagnoses they specialize in.',\n",
    "        'Contains details about diagnoses including their unique ID, name, type, whether is it malignant, the treatment success rate, the commonness of the disease and its symptoms.'\n",
    "    ]\n",
    "}\n",
    "\n",
    "df = pd.DataFrame(data)\n",
    "print(df)\n",
    "\n",
    "\n",
    "  \n",
    "\n",
    "\n",
    "\n"
   ]
  },
  {
   "cell_type": "code",
   "execution_count": 41,
   "id": "009e681c-d95d-4c9c-b044-5bfd76e3ad95",
   "metadata": {
    "id": "009e681c-d95d-4c9c-b044-5bfd76e3ad95"
   },
   "outputs": [],
   "source": [
    "text_tables = '\\n'.join([f\"{row['table']}: {row['definition']}\" for index, row in df.iterrows()])"
   ]
  },
  {
   "cell_type": "code",
   "execution_count": 42,
   "id": "fe03ac25-8d02-4cd1-99a1-be4220c6fd2d",
   "metadata": {
    "id": "fe03ac25-8d02-4cd1-99a1-be4220c6fd2d",
    "outputId": "c1f3aab1-5f26-48fe-fcf9-3780120f5aad"
   },
   "outputs": [
    {
     "name": "stdout",
     "output_type": "stream",
     "text": [
      "hospitals(hosp_id, name, phone, address, city, state, zip, doctors, nurses, medical_specialty): Contains details about hospitals including unique ID, name, address, and how many doctors and nurses on staff, and what is the hospitals medical specialty.\n",
      "patients(hosp_id,  patient_id, first_name, last_name, admission_date, symptoms, diagnosis_id, phone, email, address): Contains details about patients including their unique ID, name, phone number, email address, home address, diagnosis, symptoms, and the date they were admitted into the hospital.\n",
      "doctors(hosp_id, doctor_id, first_name, last_name, phone, email, address, begin_date, medical_specialty, diagnosis_id, med_degree): Contains details about doctors including their unique ID, name, phone number, email address, home address, begin date working at the hospital, medical specialty and medical degree, and the id of the diagnoses they specialize in.\n",
      "diagnoses(diagnosis_id, disease_name, disease_type, malignant, disease_frequency, symptoms): Contains details about diagnoses including their unique ID, name, type, whether is it malignant, the commonness of the disease and its symptoms.\n"
     ]
    }
   ],
   "source": [
    "print(text_tables)"
   ]
  },
  {
   "cell_type": "code",
   "execution_count": 43,
   "id": "c7e275ae-f20d-4134-b9b6-d8677dfb544c",
   "metadata": {
    "id": "c7e275ae-f20d-4134-b9b6-d8677dfb544c"
   },
   "outputs": [],
   "source": [
    "prompt_question_tables = \"\"\"\n",
    "Given the following tables and their content definitions,\n",
    "###Tables\n",
    "{tables}\n",
    "\n",
    "Tell me which tables would be necessary to query with SQL to address the user's question below.\n",
    "Return the table names in a json format.\n",
    "###User Questyion:\n",
    "{question}\n",
    "\"\"\"\n"
   ]
  },
  {
   "cell_type": "code",
   "execution_count": 44,
   "id": "b1cb5957-2df2-4e5e-9e6a-ace955c9817e",
   "metadata": {
    "id": "b1cb5957-2df2-4e5e-9e6a-ace955c9817e"
   },
   "outputs": [],
   "source": [
    "#Creating the prompt, with the user questions and the tables definitions.\n",
    "pqt1 = prompt_question_tables.format(tables=text_tables, question=\"which doctors have worked at the hospital the longest?\")"
   ]
  },
  {
   "cell_type": "code",
   "execution_count": 45,
   "id": "10d30f2b-6c23-4fd6-8038-840fba784cce",
   "metadata": {
    "id": "10d30f2b-6c23-4fd6-8038-840fba784cce",
    "outputId": "9924022c-7b2b-4ec8-e2c2-75bc1c745151",
    "scrolled": true
   },
   "outputs": [
    {
     "name": "stdout",
     "output_type": "stream",
     "text": [
      "{\n",
      "    \"tables\": [\"doctors\"]\n",
      "}\n"
     ]
    }
   ],
   "source": [
    "print(return_OAI(pqt1))"
   ]
  },
  {
   "cell_type": "code",
   "execution_count": 46,
   "id": "57e07083-be8f-4cd0-95bd-c4b909422c6b",
   "metadata": {
    "id": "57e07083-be8f-4cd0-95bd-c4b909422c6b"
   },
   "outputs": [],
   "source": [
    "pqt3 = prompt_question_tables.format(tables=text_tables,\n",
    "                                     question=\"which doctors specialize in cancer?\")"
   ]
  },
  {
   "cell_type": "code",
   "execution_count": 47,
   "id": "a0eeb79e-caf1-4f48-9897-168d95d2ae37",
   "metadata": {
    "id": "a0eeb79e-caf1-4f48-9897-168d95d2ae37",
    "outputId": "81d77115-9cad-4284-a228-5368bb9aa6fb"
   },
   "outputs": [
    {
     "name": "stdout",
     "output_type": "stream",
     "text": [
      "```json\n",
      "{\n",
      "    \"tables\": [\"doctors\", \"diagnoses\"]\n",
      "}\n",
      "```\n"
     ]
    }
   ],
   "source": [
    "print(return_OAI(pqt3))"
   ]
  },
  {
   "cell_type": "code",
   "execution_count": 51,
   "id": "3645bced",
   "metadata": {},
   "outputs": [],
   "source": [
    "pqt4 = prompt_question_tables.format(tables=text_tables,\n",
    "                                     question=\"which patients have multiple sclerosis and which doctors can treat them?\")"
   ]
  },
  {
   "cell_type": "code",
   "execution_count": 52,
   "id": "35d955e6",
   "metadata": {},
   "outputs": [
    {
     "name": "stdout",
     "output_type": "stream",
     "text": [
      "{\n",
      "    \"tables\": [\"patients\", \"doctors\", \"diagnoses\"]\n",
      "}\n"
     ]
    }
   ],
   "source": [
    "print(return_OAI(pqt4))"
   ]
  },
  {
   "cell_type": "code",
   "execution_count": 55,
   "id": "c734a4c9",
   "metadata": {},
   "outputs": [],
   "source": [
    "pqt5 = prompt_question_tables.format(tables=text_tables,\n",
    "                                     question=\"which hospitals have the most Harvard graduates working on their staff?\")"
   ]
  },
  {
   "cell_type": "code",
   "execution_count": 56,
   "id": "9e010133",
   "metadata": {},
   "outputs": [
    {
     "name": "stdout",
     "output_type": "stream",
     "text": [
      "```json\n",
      "{\n",
      "    \"tables\": [\"hospitals\", \"doctors\"]\n",
      "}\n",
      "```\n"
     ]
    }
   ],
   "source": [
    "print(return_OAI(pqt5))"
   ]
  },
  {
   "cell_type": "code",
   "execution_count": 58,
   "id": "846a562f",
   "metadata": {},
   "outputs": [],
   "source": [
    "pqt6 = prompt_question_tables.format(tables=text_tables,\n",
    "                                     question=\"which hospitals have the most Harvard graduates employed?\")"
   ]
  },
  {
   "cell_type": "code",
   "execution_count": 59,
   "id": "8f85a2bd",
   "metadata": {},
   "outputs": [
    {
     "name": "stdout",
     "output_type": "stream",
     "text": [
      "{\n",
      "    \"tables\": [\"hospitals\", \"doctors\"]\n",
      "}\n"
     ]
    }
   ],
   "source": [
    "print(return_OAI(pqt6))"
   ]
  },
  {
   "cell_type": "code",
   "execution_count": 60,
   "id": "64c74def",
   "metadata": {},
   "outputs": [],
   "source": [
    "pqt6 = prompt_question_tables.format(tables=text_tables,\n",
    "                                     question=\"which doctors have the most success treating type 2 diabetes and which patients have they treated successfully?\")"
   ]
  },
  {
   "cell_type": "code",
   "execution_count": 61,
   "id": "c2ba40ea",
   "metadata": {},
   "outputs": [
    {
     "name": "stdout",
     "output_type": "stream",
     "text": [
      "{\n",
      "    \"tables\": [\"doctors\", \"patients\", \"diagnoses\"]\n",
      "}\n"
     ]
    }
   ],
   "source": [
    "print(return_OAI(pqt6))"
   ]
  },
  {
   "cell_type": "markdown",
   "id": "6a2caa3c",
   "metadata": {},
   "source": [
    "## Summary of Findings"
   ]
  },
  {
   "cell_type": "markdown",
   "id": "e36a58cd",
   "metadata": {},
   "source": [
    "The model is extremely useful for converting human questions into a table output. It seems that with clear definitions the model can infer what is meant when a question asks for information that is definition adjacent. For example, I asked the model \"which hospitals have the most Harvard graduates working on their staff?\". The definition for doctors includes a medical degree acknowledgement, but does not use the word \"university\" or \"college\" etc and it does not give examples of leanring institutions. However the model was able to infer from it's training that Harvard is a place where one can procure medical degrees, and therefore it knew to point me to the tables for hospitals and doctors, where the hospital would list which doctors it employs with a degree from Harvard.\n",
    "\n",
    "I also chose to ask the same question but in different words to see if the model can infer from synonyms what is being asked. While the definitions uses the language \"staff\", I asked, \"which hospitals have the most Harvard graduates employed?\", using the word employed. The model was able to recognize the similarity of these words and produce the same table answer.\n",
    "\n",
    "I also asked the model a more complex question, asking \"which doctors have the most success treating type 2 diabetes and which patients have they treated successfully?\", which did not confuse the model, as it was able to produce the tables: doctors, patients and diagnoses. "
   ]
  },
  {
   "cell_type": "markdown",
   "id": "321bb9a2-4937-4e9a-a31b-7049cb8f5aa3",
   "metadata": {
    "id": "321bb9a2-4937-4e9a-a31b-7049cb8f5aa3"
   },
   "source": [
    "# Exercise\n",
    " - Complete the prompts similar to what we did in class. \n",
    "     - Try a few versions if you have time\n",
    "     - Be creative\n",
    " - Write a one page report summarizing your findings.\n",
    "     - Were there variations that didn't work well? i.e., where GPT either hallucinated or wrong\n",
    " - What did you learn?"
   ]
  }
 ],
 "metadata": {
  "colab": {
   "include_colab_link": true,
   "provenance": []
  },
  "kernelspec": {
   "display_name": "base",
   "language": "python",
   "name": "python3"
  },
  "language_info": {
   "codemirror_mode": {
    "name": "ipython",
    "version": 3
   },
   "file_extension": ".py",
   "mimetype": "text/x-python",
   "name": "python",
   "nbconvert_exporter": "python",
   "pygments_lexer": "ipython3",
   "version": "3.12.2"
  }
 },
 "nbformat": 4,
 "nbformat_minor": 5
}
